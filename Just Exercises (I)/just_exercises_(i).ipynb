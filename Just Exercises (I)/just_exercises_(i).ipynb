{
 "cells": [
  {
   "cell_type": "markdown",
   "id": "123456",
   "metadata": {},
   "source": [
    "<div style=\"text-align:left;font-size:2em\"><span style=\"font-weight:bolder;font-size:1.25em\">SP2273 | Learning Portfolio</span><br><br><span style=\"font-weight:bold;color:darkred\">Just Exercises (I)</span></div>"
   ]
  },
  {
   "cell_type": "markdown",
   "id": "1cdf9d4e",
   "metadata": {},
   "source": [
    "## Exercise 1 :  F-strings to the rescue"
   ]
  },
  {
   "cell_type": "code",
   "execution_count": 19,
   "id": "024d9a64",
   "metadata": {},
   "outputs": [
    {
     "name": "stdout",
     "output_type": "stream",
     "text": [
      "00001\n",
      "00002\n",
      "00003\n",
      "00004\n",
      "00005\n",
      "00006\n",
      "00007\n",
      "00008\n",
      "00009\n",
      "00010\n"
     ]
    }
   ],
   "source": [
    "for i in range(1,11): \n",
    "    print(str(i).zfill(5))"
   ]
  },
  {
   "cell_type": "code",
   "execution_count": 107,
   "id": "ea94d533",
   "metadata": {},
   "outputs": [
    {
     "name": "stdout",
     "output_type": "stream",
     "text": [
      "001         +\n",
      "002        ++\n",
      "003       +++\n",
      "004      ++++\n",
      "005     +++++\n",
      "006    ++++++\n",
      "007   +++++++\n",
      "008  ++++++++\n",
      "009 +++++++++\n",
      "010++++++++++\n"
     ]
    }
   ],
   "source": [
    "space=' '\n",
    "\n",
    "for i in range(1,11): \n",
    "    print(str(i).zfill(3),(space*(10-i)),('+'*i),sep='')"
   ]
  },
  {
   "cell_type": "code",
   "execution_count": null,
   "id": "b4c867e8",
   "metadata": {},
   "outputs": [],
   "source": [
    "f\"\""
   ]
  },
  {
   "cell_type": "code",
   "execution_count": 106,
   "id": "c49af3cc",
   "metadata": {},
   "outputs": [
    {
     "name": "stdout",
     "output_type": "stream",
     "text": [
      "001-+++++++++\n",
      "002--++++++++\n",
      "003---+++++++\n",
      "004----++++++\n",
      "005-----+++++\n",
      "006------++++\n",
      "007-------+++\n",
      "008--------++\n",
      "009---------+\n",
      "010----------\n"
     ]
    }
   ],
   "source": [
    "for i in range(1,11): \n",
    "    print(str(i).zfill(3),('-'*i),('+'*(10-i)),sep='')"
   ]
  },
  {
   "cell_type": "code",
   "execution_count": 31,
   "id": "a11881a8",
   "metadata": {},
   "outputs": [],
   "source": [
    "names=['bruce_exploits.txt', 'bruce_enemies.txt', 'bruce_friends.txt',\n",
    " 'natasha_exploits.txt', 'natasha_enemies.txt', 'natasha_friends.txt',\n",
    " 'tony_exploits.txt', 'tony_enemies.txt', 'tony_friends.txt']"
   ]
  },
  {
   "cell_type": "code",
   "execution_count": 37,
   "id": "d3a01429",
   "metadata": {},
   "outputs": [
    {
     "ename": "SyntaxError",
     "evalue": "invalid syntax. Perhaps you forgot a comma? (13951840.py, line 4)",
     "output_type": "error",
     "traceback": [
      "\u001b[0;36m  Cell \u001b[0;32mIn[37], line 4\u001b[0;36m\u001b[0m\n\u001b[0;31m    ...\u001b[0m\n\u001b[0m    ^\u001b[0m\n\u001b[0;31mSyntaxError\u001b[0m\u001b[0;31m:\u001b[0m invalid syntax. Perhaps you forgot a comma?\n"
     ]
    }
   ],
   "source": [
    "data=['data_sg_exp-01_trial-001.txt',\n",
    " 'data_sg_exp-01_trial-002.txt',\n",
    " 'data_sg_exp-01_trial-003.txt',\n",
    " ...\n",
    " 'data_sg_exp-03_trial-048.txt',\n",
    " 'data_sg_exp-03_trial-049.txt',\n",
    " 'data_sg_exp-03_trial-050.txt'\n",
    " ...\n",
    " 'data_gb_exp-01_trial-001.txt',\n",
    " 'data_gb_exp-01_trial-002.txt',\n",
    " 'data_gb_exp-01_trial-003.txt',\n",
    " ...\n",
    " 'data_gb_exp-03_trial-048.txt',\n",
    " 'data_gb_exp-03_trial-049.txt',\n",
    " 'data_gb_exp-03_trial-050.txt'\n",
    " ...\n",
    " 'data_us_exp-01_trial-001.txt',\n",
    " 'data_us_exp-01_trial-002.txt',\n",
    " 'data_us_exp-01_trial-003.txt',\n",
    " ...\n",
    " 'data_us_exp-03_trial-048.txt',\n",
    " 'data_us_exp-03_trial-049.txt',\n",
    " 'data_us_exp-03_trial-050.txt'\n",
    "]"
   ]
  },
  {
   "cell_type": "code",
   "execution_count": 204,
   "id": "98500a0d",
   "metadata": {},
   "outputs": [
    {
     "name": "stdout",
     "output_type": "stream",
     "text": [
      "['data_sg_exp-01_trial-001', 'data_sg_exp-01_trial-002', 'data_sg_exp-01_trial-003', 'data_sg_exp-01_trial-004', 'data_sg_exp-01_trial-005', 'data_sg_exp-01_trial-006', 'data_sg_exp-01_trial-007', 'data_sg_exp-01_trial-008', 'data_sg_exp-01_trial-009', 'data_sg_exp-01_trial-0010', 'data_sg_exp-01_trial-0011', 'data_sg_exp-01_trial-0012', 'data_sg_exp-01_trial-0013', 'data_sg_exp-01_trial-0014', 'data_sg_exp-01_trial-0015', 'data_sg_exp-01_trial-0016', 'data_sg_exp-01_trial-0017', 'data_sg_exp-01_trial-0018', 'data_sg_exp-01_trial-0019', 'data_sg_exp-01_trial-0020', 'data_sg_exp-01_trial-0021', 'data_sg_exp-01_trial-0022', 'data_sg_exp-01_trial-0023', 'data_sg_exp-01_trial-0024', 'data_sg_exp-01_trial-0025', 'data_sg_exp-01_trial-0026', 'data_sg_exp-01_trial-0027', 'data_sg_exp-01_trial-0028', 'data_sg_exp-01_trial-0029', 'data_sg_exp-01_trial-0030', 'data_sg_exp-01_trial-0031', 'data_sg_exp-01_trial-0032', 'data_sg_exp-01_trial-0033', 'data_sg_exp-01_trial-0034', 'data_sg_exp-01_trial-0035', 'data_sg_exp-01_trial-0036', 'data_sg_exp-01_trial-0037', 'data_sg_exp-01_trial-0038', 'data_sg_exp-01_trial-0039', 'data_sg_exp-01_trial-0040', 'data_sg_exp-01_trial-0041', 'data_sg_exp-01_trial-0042', 'data_sg_exp-01_trial-0043', 'data_sg_exp-01_trial-0044', 'data_sg_exp-01_trial-0045', 'data_sg_exp-01_trial-0046', 'data_sg_exp-01_trial-0047', 'data_sg_exp-01_trial-0048', 'data_sg_exp-01_trial-0049', 'data_sg_exp-01_trial-0050', 'data_sg_exp-02_trial-001', 'data_sg_exp-02_trial-002', 'data_sg_exp-02_trial-003', 'data_sg_exp-02_trial-004', 'data_sg_exp-02_trial-005', 'data_sg_exp-02_trial-006', 'data_sg_exp-02_trial-007', 'data_sg_exp-02_trial-008', 'data_sg_exp-02_trial-009', 'data_sg_exp-02_trial-0010', 'data_sg_exp-02_trial-0011', 'data_sg_exp-02_trial-0012', 'data_sg_exp-02_trial-0013', 'data_sg_exp-02_trial-0014', 'data_sg_exp-02_trial-0015', 'data_sg_exp-02_trial-0016', 'data_sg_exp-02_trial-0017', 'data_sg_exp-02_trial-0018', 'data_sg_exp-02_trial-0019', 'data_sg_exp-02_trial-0020', 'data_sg_exp-02_trial-0021', 'data_sg_exp-02_trial-0022', 'data_sg_exp-02_trial-0023', 'data_sg_exp-02_trial-0024', 'data_sg_exp-02_trial-0025', 'data_sg_exp-02_trial-0026', 'data_sg_exp-02_trial-0027', 'data_sg_exp-02_trial-0028', 'data_sg_exp-02_trial-0029', 'data_sg_exp-02_trial-0030', 'data_sg_exp-02_trial-0031', 'data_sg_exp-02_trial-0032', 'data_sg_exp-02_trial-0033', 'data_sg_exp-02_trial-0034', 'data_sg_exp-02_trial-0035', 'data_sg_exp-02_trial-0036', 'data_sg_exp-02_trial-0037', 'data_sg_exp-02_trial-0038', 'data_sg_exp-02_trial-0039', 'data_sg_exp-02_trial-0040', 'data_sg_exp-02_trial-0041', 'data_sg_exp-02_trial-0042', 'data_sg_exp-02_trial-0043', 'data_sg_exp-02_trial-0044', 'data_sg_exp-02_trial-0045', 'data_sg_exp-02_trial-0046', 'data_sg_exp-02_trial-0047', 'data_sg_exp-02_trial-0048', 'data_sg_exp-02_trial-0049', 'data_sg_exp-02_trial-0050', 'data_sg_exp-03_trial-001', 'data_sg_exp-03_trial-002', 'data_sg_exp-03_trial-003', 'data_sg_exp-03_trial-004', 'data_sg_exp-03_trial-005', 'data_sg_exp-03_trial-006', 'data_sg_exp-03_trial-007', 'data_sg_exp-03_trial-008', 'data_sg_exp-03_trial-009', 'data_sg_exp-03_trial-0010', 'data_sg_exp-03_trial-0011', 'data_sg_exp-03_trial-0012', 'data_sg_exp-03_trial-0013', 'data_sg_exp-03_trial-0014', 'data_sg_exp-03_trial-0015', 'data_sg_exp-03_trial-0016', 'data_sg_exp-03_trial-0017', 'data_sg_exp-03_trial-0018', 'data_sg_exp-03_trial-0019', 'data_sg_exp-03_trial-0020', 'data_sg_exp-03_trial-0021', 'data_sg_exp-03_trial-0022', 'data_sg_exp-03_trial-0023', 'data_sg_exp-03_trial-0024', 'data_sg_exp-03_trial-0025', 'data_sg_exp-03_trial-0026', 'data_sg_exp-03_trial-0027', 'data_sg_exp-03_trial-0028', 'data_sg_exp-03_trial-0029', 'data_sg_exp-03_trial-0030', 'data_sg_exp-03_trial-0031', 'data_sg_exp-03_trial-0032', 'data_sg_exp-03_trial-0033', 'data_sg_exp-03_trial-0034', 'data_sg_exp-03_trial-0035', 'data_sg_exp-03_trial-0036', 'data_sg_exp-03_trial-0037', 'data_sg_exp-03_trial-0038', 'data_sg_exp-03_trial-0039', 'data_sg_exp-03_trial-0040', 'data_sg_exp-03_trial-0041', 'data_sg_exp-03_trial-0042', 'data_sg_exp-03_trial-0043', 'data_sg_exp-03_trial-0044', 'data_sg_exp-03_trial-0045', 'data_sg_exp-03_trial-0046', 'data_sg_exp-03_trial-0047', 'data_sg_exp-03_trial-0048', 'data_sg_exp-03_trial-0049', 'data_sg_exp-03_trial-0050', 'data_gb_exp-01_trial-001', 'data_gb_exp-01_trial-002', 'data_gb_exp-01_trial-003', 'data_gb_exp-01_trial-004', 'data_gb_exp-01_trial-005', 'data_gb_exp-01_trial-006', 'data_gb_exp-01_trial-007', 'data_gb_exp-01_trial-008', 'data_gb_exp-01_trial-009', 'data_gb_exp-01_trial-0010', 'data_gb_exp-01_trial-0011', 'data_gb_exp-01_trial-0012', 'data_gb_exp-01_trial-0013', 'data_gb_exp-01_trial-0014', 'data_gb_exp-01_trial-0015', 'data_gb_exp-01_trial-0016', 'data_gb_exp-01_trial-0017', 'data_gb_exp-01_trial-0018', 'data_gb_exp-01_trial-0019', 'data_gb_exp-01_trial-0020', 'data_gb_exp-01_trial-0021', 'data_gb_exp-01_trial-0022', 'data_gb_exp-01_trial-0023', 'data_gb_exp-01_trial-0024', 'data_gb_exp-01_trial-0025', 'data_gb_exp-01_trial-0026', 'data_gb_exp-01_trial-0027', 'data_gb_exp-01_trial-0028', 'data_gb_exp-01_trial-0029', 'data_gb_exp-01_trial-0030', 'data_gb_exp-01_trial-0031', 'data_gb_exp-01_trial-0032', 'data_gb_exp-01_trial-0033', 'data_gb_exp-01_trial-0034', 'data_gb_exp-01_trial-0035', 'data_gb_exp-01_trial-0036', 'data_gb_exp-01_trial-0037', 'data_gb_exp-01_trial-0038', 'data_gb_exp-01_trial-0039', 'data_gb_exp-01_trial-0040', 'data_gb_exp-01_trial-0041', 'data_gb_exp-01_trial-0042', 'data_gb_exp-01_trial-0043', 'data_gb_exp-01_trial-0044', 'data_gb_exp-01_trial-0045', 'data_gb_exp-01_trial-0046', 'data_gb_exp-01_trial-0047', 'data_gb_exp-01_trial-0048', 'data_gb_exp-01_trial-0049', 'data_gb_exp-01_trial-0050', 'data_gb_exp-02_trial-001', 'data_gb_exp-02_trial-002', 'data_gb_exp-02_trial-003', 'data_gb_exp-02_trial-004', 'data_gb_exp-02_trial-005', 'data_gb_exp-02_trial-006', 'data_gb_exp-02_trial-007', 'data_gb_exp-02_trial-008', 'data_gb_exp-02_trial-009', 'data_gb_exp-02_trial-0010', 'data_gb_exp-02_trial-0011', 'data_gb_exp-02_trial-0012', 'data_gb_exp-02_trial-0013', 'data_gb_exp-02_trial-0014', 'data_gb_exp-02_trial-0015', 'data_gb_exp-02_trial-0016', 'data_gb_exp-02_trial-0017', 'data_gb_exp-02_trial-0018', 'data_gb_exp-02_trial-0019', 'data_gb_exp-02_trial-0020', 'data_gb_exp-02_trial-0021', 'data_gb_exp-02_trial-0022', 'data_gb_exp-02_trial-0023', 'data_gb_exp-02_trial-0024', 'data_gb_exp-02_trial-0025', 'data_gb_exp-02_trial-0026', 'data_gb_exp-02_trial-0027', 'data_gb_exp-02_trial-0028', 'data_gb_exp-02_trial-0029', 'data_gb_exp-02_trial-0030', 'data_gb_exp-02_trial-0031', 'data_gb_exp-02_trial-0032', 'data_gb_exp-02_trial-0033', 'data_gb_exp-02_trial-0034', 'data_gb_exp-02_trial-0035', 'data_gb_exp-02_trial-0036', 'data_gb_exp-02_trial-0037', 'data_gb_exp-02_trial-0038', 'data_gb_exp-02_trial-0039', 'data_gb_exp-02_trial-0040', 'data_gb_exp-02_trial-0041', 'data_gb_exp-02_trial-0042', 'data_gb_exp-02_trial-0043', 'data_gb_exp-02_trial-0044', 'data_gb_exp-02_trial-0045', 'data_gb_exp-02_trial-0046', 'data_gb_exp-02_trial-0047', 'data_gb_exp-02_trial-0048', 'data_gb_exp-02_trial-0049', 'data_gb_exp-02_trial-0050', 'data_gb_exp-03_trial-001', 'data_gb_exp-03_trial-002', 'data_gb_exp-03_trial-003', 'data_gb_exp-03_trial-004', 'data_gb_exp-03_trial-005', 'data_gb_exp-03_trial-006', 'data_gb_exp-03_trial-007', 'data_gb_exp-03_trial-008', 'data_gb_exp-03_trial-009', 'data_gb_exp-03_trial-0010', 'data_gb_exp-03_trial-0011', 'data_gb_exp-03_trial-0012', 'data_gb_exp-03_trial-0013', 'data_gb_exp-03_trial-0014', 'data_gb_exp-03_trial-0015', 'data_gb_exp-03_trial-0016', 'data_gb_exp-03_trial-0017', 'data_gb_exp-03_trial-0018', 'data_gb_exp-03_trial-0019', 'data_gb_exp-03_trial-0020', 'data_gb_exp-03_trial-0021', 'data_gb_exp-03_trial-0022', 'data_gb_exp-03_trial-0023', 'data_gb_exp-03_trial-0024', 'data_gb_exp-03_trial-0025', 'data_gb_exp-03_trial-0026', 'data_gb_exp-03_trial-0027', 'data_gb_exp-03_trial-0028', 'data_gb_exp-03_trial-0029', 'data_gb_exp-03_trial-0030', 'data_gb_exp-03_trial-0031', 'data_gb_exp-03_trial-0032', 'data_gb_exp-03_trial-0033', 'data_gb_exp-03_trial-0034', 'data_gb_exp-03_trial-0035', 'data_gb_exp-03_trial-0036', 'data_gb_exp-03_trial-0037', 'data_gb_exp-03_trial-0038', 'data_gb_exp-03_trial-0039', 'data_gb_exp-03_trial-0040', 'data_gb_exp-03_trial-0041', 'data_gb_exp-03_trial-0042', 'data_gb_exp-03_trial-0043', 'data_gb_exp-03_trial-0044', 'data_gb_exp-03_trial-0045', 'data_gb_exp-03_trial-0046', 'data_gb_exp-03_trial-0047', 'data_gb_exp-03_trial-0048', 'data_gb_exp-03_trial-0049', 'data_gb_exp-03_trial-0050', 'data_us_exp-01_trial-001', 'data_us_exp-01_trial-002', 'data_us_exp-01_trial-003', 'data_us_exp-01_trial-004', 'data_us_exp-01_trial-005', 'data_us_exp-01_trial-006', 'data_us_exp-01_trial-007', 'data_us_exp-01_trial-008', 'data_us_exp-01_trial-009', 'data_us_exp-01_trial-0010', 'data_us_exp-01_trial-0011', 'data_us_exp-01_trial-0012', 'data_us_exp-01_trial-0013', 'data_us_exp-01_trial-0014', 'data_us_exp-01_trial-0015', 'data_us_exp-01_trial-0016', 'data_us_exp-01_trial-0017', 'data_us_exp-01_trial-0018', 'data_us_exp-01_trial-0019', 'data_us_exp-01_trial-0020', 'data_us_exp-01_trial-0021', 'data_us_exp-01_trial-0022', 'data_us_exp-01_trial-0023', 'data_us_exp-01_trial-0024', 'data_us_exp-01_trial-0025', 'data_us_exp-01_trial-0026', 'data_us_exp-01_trial-0027', 'data_us_exp-01_trial-0028', 'data_us_exp-01_trial-0029', 'data_us_exp-01_trial-0030', 'data_us_exp-01_trial-0031', 'data_us_exp-01_trial-0032', 'data_us_exp-01_trial-0033', 'data_us_exp-01_trial-0034', 'data_us_exp-01_trial-0035', 'data_us_exp-01_trial-0036', 'data_us_exp-01_trial-0037', 'data_us_exp-01_trial-0038', 'data_us_exp-01_trial-0039', 'data_us_exp-01_trial-0040', 'data_us_exp-01_trial-0041', 'data_us_exp-01_trial-0042', 'data_us_exp-01_trial-0043', 'data_us_exp-01_trial-0044', 'data_us_exp-01_trial-0045', 'data_us_exp-01_trial-0046', 'data_us_exp-01_trial-0047', 'data_us_exp-01_trial-0048', 'data_us_exp-01_trial-0049', 'data_us_exp-01_trial-0050', 'data_us_exp-02_trial-001', 'data_us_exp-02_trial-002', 'data_us_exp-02_trial-003', 'data_us_exp-02_trial-004', 'data_us_exp-02_trial-005', 'data_us_exp-02_trial-006', 'data_us_exp-02_trial-007', 'data_us_exp-02_trial-008', 'data_us_exp-02_trial-009', 'data_us_exp-02_trial-0010', 'data_us_exp-02_trial-0011', 'data_us_exp-02_trial-0012', 'data_us_exp-02_trial-0013', 'data_us_exp-02_trial-0014', 'data_us_exp-02_trial-0015', 'data_us_exp-02_trial-0016', 'data_us_exp-02_trial-0017', 'data_us_exp-02_trial-0018', 'data_us_exp-02_trial-0019', 'data_us_exp-02_trial-0020', 'data_us_exp-02_trial-0021', 'data_us_exp-02_trial-0022', 'data_us_exp-02_trial-0023', 'data_us_exp-02_trial-0024', 'data_us_exp-02_trial-0025', 'data_us_exp-02_trial-0026', 'data_us_exp-02_trial-0027', 'data_us_exp-02_trial-0028', 'data_us_exp-02_trial-0029', 'data_us_exp-02_trial-0030', 'data_us_exp-02_trial-0031', 'data_us_exp-02_trial-0032', 'data_us_exp-02_trial-0033', 'data_us_exp-02_trial-0034', 'data_us_exp-02_trial-0035', 'data_us_exp-02_trial-0036', 'data_us_exp-02_trial-0037', 'data_us_exp-02_trial-0038', 'data_us_exp-02_trial-0039', 'data_us_exp-02_trial-0040', 'data_us_exp-02_trial-0041', 'data_us_exp-02_trial-0042', 'data_us_exp-02_trial-0043', 'data_us_exp-02_trial-0044', 'data_us_exp-02_trial-0045', 'data_us_exp-02_trial-0046', 'data_us_exp-02_trial-0047', 'data_us_exp-02_trial-0048', 'data_us_exp-02_trial-0049', 'data_us_exp-02_trial-0050', 'data_us_exp-03_trial-001', 'data_us_exp-03_trial-002', 'data_us_exp-03_trial-003', 'data_us_exp-03_trial-004', 'data_us_exp-03_trial-005', 'data_us_exp-03_trial-006', 'data_us_exp-03_trial-007', 'data_us_exp-03_trial-008', 'data_us_exp-03_trial-009', 'data_us_exp-03_trial-0010', 'data_us_exp-03_trial-0011', 'data_us_exp-03_trial-0012', 'data_us_exp-03_trial-0013', 'data_us_exp-03_trial-0014', 'data_us_exp-03_trial-0015', 'data_us_exp-03_trial-0016', 'data_us_exp-03_trial-0017', 'data_us_exp-03_trial-0018', 'data_us_exp-03_trial-0019', 'data_us_exp-03_trial-0020', 'data_us_exp-03_trial-0021', 'data_us_exp-03_trial-0022', 'data_us_exp-03_trial-0023', 'data_us_exp-03_trial-0024', 'data_us_exp-03_trial-0025', 'data_us_exp-03_trial-0026', 'data_us_exp-03_trial-0027', 'data_us_exp-03_trial-0028', 'data_us_exp-03_trial-0029', 'data_us_exp-03_trial-0030', 'data_us_exp-03_trial-0031', 'data_us_exp-03_trial-0032', 'data_us_exp-03_trial-0033', 'data_us_exp-03_trial-0034', 'data_us_exp-03_trial-0035', 'data_us_exp-03_trial-0036', 'data_us_exp-03_trial-0037', 'data_us_exp-03_trial-0038', 'data_us_exp-03_trial-0039', 'data_us_exp-03_trial-0040', 'data_us_exp-03_trial-0041', 'data_us_exp-03_trial-0042', 'data_us_exp-03_trial-0043', 'data_us_exp-03_trial-0044', 'data_us_exp-03_trial-0045', 'data_us_exp-03_trial-0046', 'data_us_exp-03_trial-0047', 'data_us_exp-03_trial-0048', 'data_us_exp-03_trial-0049', 'data_us_exp-03_trial-0050']\n"
     ]
    }
   ],
   "source": [
    "countries = [\"sg\",\"gb\",\"us\"]\n",
    "experiment = [\"1\",\"2\",\"3\"]\n",
    "trial = range(1,51)\n",
    "         \n",
    "answer = []\n",
    "\n",
    "for i in countries:\n",
    "    for j in experiment:\n",
    "        for y in trial:\n",
    "            answer.append(f'data_{i}_exp-0{j}_trial-00{y}')\n",
    "print(answer)"
   ]
  },
  {
   "cell_type": "markdown",
   "id": "2674fafd",
   "metadata": {},
   "source": [
    "## Exercise 2 :  Tutti frutti"
   ]
  },
  {
   "cell_type": "code",
   "execution_count": 38,
   "id": "e1121ce4",
   "metadata": {},
   "outputs": [],
   "source": [
    "fruits = [\"apple\", \"banana\", \"pineapple\", \"jackfruit\",\n",
    "        \"peach\", \"durian\", \"watermelon\", \"mango\",\n",
    "        \"strawberry\", \"passionfruit\"]"
   ]
  },
  {
   "cell_type": "code",
   "execution_count": 43,
   "id": "262ce4e6",
   "metadata": {},
   "outputs": [
    {
     "name": "stdout",
     "output_type": "stream",
     "text": [
      "mango exists\n"
     ]
    }
   ],
   "source": [
    "if \"mango\" in fruits:\n",
    "    print('mango exists')\n",
    "else:\n",
    "    print('mango does not exist')"
   ]
  },
  {
   "cell_type": "code",
   "execution_count": 114,
   "id": "d5365126",
   "metadata": {},
   "outputs": [
    {
     "name": "stdout",
     "output_type": "stream",
     "text": [
      "apple\n",
      "banana\n",
      "pineapple\n",
      "jackfruit\n",
      "peach\n",
      "durian\n",
      "watermelon\n",
      "mango\n",
      "strawberry\n",
      "passionfruit\n"
     ]
    }
   ],
   "source": [
    "for i in fruits:\n",
    "    print(i)"
   ]
  },
  {
   "cell_type": "code",
   "execution_count": 143,
   "id": "fc7c4cd5",
   "metadata": {},
   "outputs": [
    {
     "name": "stdout",
     "output_type": "stream",
     "text": [
      "a e\n",
      "b a\n",
      "p e\n",
      "j t\n",
      "p h\n",
      "d n\n",
      "w n\n",
      "m o\n",
      "s y\n",
      "p t\n"
     ]
    }
   ],
   "source": [
    "for x in fruits:\n",
    "    print (x[0], x[-1])"
   ]
  },
  {
   "cell_type": "code",
   "execution_count": 159,
   "id": "8b107e10",
   "metadata": {},
   "outputs": [
    {
     "name": "stdout",
     "output_type": "stream",
     "text": [
      "apple\n",
      "banana\n",
      "PINEAPPLE\n",
      "jackfruit\n",
      "PEACH\n",
      "durian\n",
      "watermelon\n",
      "mango\n",
      "strawberry\n",
      "PASSIONFRUIT\n"
     ]
    }
   ],
   "source": [
    "for x in fruits:\n",
    "    if x[0]=='p':\n",
    "        print (x.upper())\n",
    "    else:\n",
    "        print (x)"
   ]
  },
  {
   "cell_type": "code",
   "execution_count": 160,
   "id": "f90fbb9e",
   "metadata": {},
   "outputs": [
    {
     "name": "stdout",
     "output_type": "stream",
     "text": [
      "['apple', 'banana', 'pineapple', 'jackfruit', 'peach', 'durian', 'watermelon', 'mango', 'strawberry', 'passionfruit', 'dragon fruit', 'apricots', 'oranges']\n"
     ]
    }
   ],
   "source": [
    "morefruits=[\"dragon fruit\", \"apricots\", \"oranges\"]\n",
    "fruits.extend(morefruits)\n",
    "print(fruits)"
   ]
  },
  {
   "cell_type": "code",
   "execution_count": 164,
   "id": "7455fcdb",
   "metadata": {},
   "outputs": [
    {
     "name": "stdout",
     "output_type": "stream",
     "text": [
      "['dragon fruit', 'apricots', 'oranges', 'apple', 'banana', 'pineapple', 'jackfruit', 'peach', 'durian', 'watermelon', 'mango', 'strawberry', 'passionfruit']\n"
     ]
    }
   ],
   "source": [
    "fruits=[\"apple\", \"banana\", \"pineapple\", \"jackfruit\",\n",
    "        \"peach\", \"durian\", \"watermelon\", \"mango\",\n",
    "        \"strawberry\", \"passionfruit\"]\n",
    "moremorefruits=[\"dragon fruit\", \"apricots\", \"oranges\"]\n",
    "        \n",
    "fruitss = moremorefruits + fruits\n",
    "print(fruitss)\n"
   ]
  },
  {
   "cell_type": "code",
   "execution_count": 168,
   "id": "75310c79",
   "metadata": {},
   "outputs": [
    {
     "name": "stdout",
     "output_type": "stream",
     "text": [
      "['apple', 'banana', 'pineapple', 'jackfruit', 'peach', ['dragon fruit', 'apricots', 'oranges'], 'durian', 'watermelon', 'mango', 'strawberry', 'passionfruit']\n"
     ]
    }
   ],
   "source": [
    "fruitsss = [\"apple\", \"banana\", \"pineapple\", \"jackfruit\",\n",
    "        \"peach\", \"durian\", \"watermelon\", \"mango\",\n",
    "        \"strawberry\", \"passionfruit\"]\n",
    "fruitsss.insert(5,moremorefruits)\n",
    "\n",
    "print(fruitsss)"
   ]
  },
  {
   "cell_type": "markdown",
   "id": "b3698efa",
   "metadata": {},
   "source": [
    "## Exercise 3 :  Ciao Fibonacci"
   ]
  },
  {
   "cell_type": "code",
   "execution_count": 172,
   "id": "6cbc8a1d",
   "metadata": {},
   "outputs": [
    {
     "name": "stdout",
     "output_type": "stream",
     "text": [
      "0\n",
      "1\n",
      "1\n",
      "2\n",
      "3\n",
      "5\n",
      "8\n",
      "13\n",
      "21\n",
      "34\n",
      "55\n",
      "89\n",
      "144\n",
      "233\n",
      "377\n",
      "610\n"
     ]
    }
   ],
   "source": [
    "first = 0\n",
    "second = 1\n",
    "print(first)\n",
    "print(second)\n",
    "for x in range(0,14):\n",
    "    third = first + second\n",
    "    print(third)\n",
    "    first,second=second,third"
   ]
  },
  {
   "cell_type": "markdown",
   "id": "b11f9d5d",
   "metadata": {},
   "source": [
    "## Exercise 4 :  A function for Fibonacci"
   ]
  },
  {
   "cell_type": "code",
   "execution_count": null,
   "id": "9c66fecb",
   "metadata": {},
   "outputs": [],
   "source": [
    "\n",
    "\n",
    "\n",
    "# Your solution here\n",
    "\n",
    "\n"
   ]
  },
  {
   "cell_type": "markdown",
   "id": "48894785",
   "metadata": {},
   "source": [
    "## Exercise 5 :  max_info() without NumPy"
   ]
  },
  {
   "cell_type": "code",
   "execution_count": 202,
   "id": "1f1073ac",
   "metadata": {},
   "outputs": [
    {
     "name": "stdout",
     "output_type": "stream",
     "text": [
      "49 9\n"
     ]
    }
   ],
   "source": [
    "numbers = [40, 27, 83, 44, 74, 51, 76, 77, 10, 49]\n",
    "my_max = 0\n",
    "my_max_index= 0\n",
    "\n",
    "for i in range(len(numbers)):\n",
    "     if numbers[i] > my_max:\n",
    "        max_val = numbers[i]\n",
    "        idx_max = numbers.index(max_val)\n",
    "\n",
    "print(max_val, idx_max)"
   ]
  },
  {
   "cell_type": "markdown",
   "id": "c75f6fd0",
   "metadata": {},
   "source": [
    "## Exercise 6 :  Take count"
   ]
  },
  {
   "cell_type": "code",
   "execution_count": null,
   "id": "30f71fc8",
   "metadata": {},
   "outputs": [],
   "source": [
    "DNA = [AGGCAAGAAGCTAGAATTCTGGCCTGAGTATCTCAGTACAGGCGCAGTCGAATCTTCCGGAATCACATTGCTCGCGCTTAAACCCGCTCTAAACCTTTGAGTAATTCGACGACATTGGGTTCCCTCCGACGCTGTCTGACAACTCTTTAAGATCCTTGGCACGATGTCGATAGACATTGTCCCTGATGACGCCTCACAAGGTAACCTGGCTCTAGTAGGGTGGTCTTTGCTGCGGAACTTACCACCTGGTGGATCCAAGCACCAGAGGAGTTCGAAGAGGCTGGGGTACCCCCTATTTAGGAAGGGCGAGACTACGGTCACAAATTCCAAATGGCTTCCCTCGATTCATGACGCCAGAATGCCTGGCTGTGCCAATTTGTCGCCTTGCGTCGTTCTGTCAATCTTTACTCGTGTCGTGTTGTGATAAATGACAAACCCTGCACAACGTAGGGCTCACACAAGGGAATCTAGAGTATCCGATACAGGGAGCTTTAGCTTCCGTCCCTTATAGCCTGCCATATTCTTGCGGTAGCACGAGCCTCAGATCTTCTCACTCCGGAAATGGGAGCTTCGACGGTCAAGGGCTAAGACGTCTTCGGGAGAAATACCTAGGCGATGACCCTGAGTGGTTTTCCGCGTATAACTCATCCTGGTTGCAAATGATTACCGTTATAGCCTGGGGATATGCCTCAATTCCGAACCCAGGAGCATCACTCGAGCAATAGCGGTAAAGGAGGCTATTAGCAAAATTGTCACGATAAGCGCCGTTGTAGTGAAATTAAGATACATACATCGTTTAGCACATCACTCTCACGGCGTCTAGAAGCTGATCTTCATATGCTGACTCAGAAGGCTCGGATAATAGAGGACGAAGGTAGTTTACTCATCGCTGCCCCGACTATTACGTGTGCATGATAAAGTCTGACCCTGACGTTCCCAAGCCGAGGCAGAGGGGTTTTACGCTGAATGTCCGCTCTCTGTCGGATGATTTCGGAAGCTG]\n",
    "\n",
    "for "
   ]
  }
 ],
 "metadata": {
  "kernelspec": {
   "display_name": "Python 3 (ipykernel)",
   "language": "python",
   "name": "python3"
  },
  "language_info": {
   "codemirror_mode": {
    "name": "ipython",
    "version": 3
   },
   "file_extension": ".py",
   "mimetype": "text/x-python",
   "name": "python",
   "nbconvert_exporter": "python",
   "pygments_lexer": "ipython3",
   "version": "3.10.8"
  },
  "toc": {
   "base_numbering": 1,
   "nav_menu": {},
   "number_sections": true,
   "sideBar": true,
   "skip_h1_title": false,
   "title_cell": "Table of Contents",
   "title_sidebar": "Contents",
   "toc_cell": false,
   "toc_position": {},
   "toc_section_display": true,
   "toc_window_display": false
  },
  "varInspector": {
   "cols": {
    "lenName": 16,
    "lenType": 16,
    "lenVar": 40
   },
   "kernels_config": {
    "python": {
     "delete_cmd_postfix": "",
     "delete_cmd_prefix": "del ",
     "library": "var_list.py",
     "varRefreshCmd": "print(var_dic_list())"
    },
    "r": {
     "delete_cmd_postfix": ") ",
     "delete_cmd_prefix": "rm(",
     "library": "var_list.r",
     "varRefreshCmd": "cat(var_dic_list()) "
    }
   },
   "types_to_exclude": [
    "module",
    "function",
    "builtin_function_or_method",
    "instance",
    "_Feature"
   ],
   "window_display": false
  },
  "vscode": {
   "interpreter": {
    "hash": "31f2aee4e71d21fbe5cf8b01ff0e069b9275f58929596ceb00d14d90e3e16cd6"
   }
  }
 },
 "nbformat": 4,
 "nbformat_minor": 5
}
