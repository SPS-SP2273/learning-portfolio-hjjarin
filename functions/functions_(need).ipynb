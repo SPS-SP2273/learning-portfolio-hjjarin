{
 "cells": [
  {
   "cell_type": "markdown",
   "id": "123456",
   "metadata": {},
   "source": [
    "<div style=\"text-align:left;font-size:2em\"><span style=\"font-weight:bolder;font-size:1.25em\">SP2273 | Learning Portfolio</span><br><br><span style=\"font-weight:bold;color:darkred\">Functions (Need)</span></div>"
   ]
  },
  {
   "cell_type": "markdown",
   "id": "002409aa",
   "metadata": {},
   "source": [
    "## 1 User defined functions"
   ]
  },
  {
   "cell_type": "markdown",
   "id": "2bda21f5",
   "metadata": {},
   "source": [
    "### 1.1 Named functions that return"
   ]
  },
  {
   "cell_type": "code",
   "execution_count": 1,
   "id": "9ef9393a",
   "metadata": {},
   "outputs": [],
   "source": [
    "def greeting(name):\n",
    "    if name == 'Batman':\n",
    "        return 'Hello Batman! So, nice to meet you!'\n",
    "    else:\n",
    "        return f'Hello {name}!'"
   ]
  },
  {
   "cell_type": "code",
   "execution_count": 2,
   "id": "34ad0f63",
   "metadata": {},
   "outputs": [
    {
     "data": {
      "text/plain": [
       "'Hello Super Man!'"
      ]
     },
     "execution_count": 2,
     "metadata": {},
     "output_type": "execute_result"
    }
   ],
   "source": [
    "greeting(\"Super Man\")"
   ]
  },
  {
   "cell_type": "code",
   "execution_count": 3,
   "id": "0aa791f3",
   "metadata": {},
   "outputs": [
    {
     "data": {
      "text/plain": [
       "'Hello Super Man!'"
      ]
     },
     "execution_count": 3,
     "metadata": {},
     "output_type": "execute_result"
    }
   ],
   "source": [
    "greeting(name=\"Super Man\")"
   ]
  },
  {
   "cell_type": "code",
   "execution_count": 4,
   "id": "3ea63a39",
   "metadata": {},
   "outputs": [
    {
     "name": "stdout",
     "output_type": "stream",
     "text": [
      "Hello Super Man!\n"
     ]
    }
   ],
   "source": [
    "greet=greeting(name='Super Man')\n",
    "print(greet)"
   ]
  },
  {
   "cell_type": "code",
   "execution_count": 8,
   "id": "85c4b220",
   "metadata": {},
   "outputs": [],
   "source": [
    "def basic_stats(numbers):\n",
    "    np_numbers=np.array(numbers)\n",
    "    return np_numbers.min(), np_numbers.max(), np_numbers.mean()"
   ]
  },
  {
   "cell_type": "code",
   "execution_count": 6,
   "id": "1a99ff48",
   "metadata": {},
   "outputs": [],
   "source": [
    "list_min, list_max, list_mean = basic_stats([1, 2, 3, 4, 5])"
   ]
  },
  {
   "cell_type": "markdown",
   "id": "a94346c3",
   "metadata": {},
   "source": [
    "### 1.2 Named functions that don’t return"
   ]
  },
  {
   "cell_type": "markdown",
   "id": "6550946b",
   "metadata": {},
   "source": [
    "\n",
    "A function does not have to return anything. A good example is print()"
   ]
  },
  {
   "cell_type": "markdown",
   "id": "ee2615d6",
   "metadata": {},
   "source": [
    "### 1.3 Anonymous functions"
   ]
  },
  {
   "cell_type": "code",
   "execution_count": 9,
   "id": "53ee8b7e",
   "metadata": {},
   "outputs": [],
   "source": [
    "my_short_function = lambda name: f\"Hello {name}!\""
   ]
  },
  {
   "cell_type": "code",
   "execution_count": 10,
   "id": "91904d56",
   "metadata": {},
   "outputs": [
    {
     "data": {
      "text/plain": [
       "'Hello Super Man!'"
      ]
     },
     "execution_count": 10,
     "metadata": {},
     "output_type": "execute_result"
    }
   ],
   "source": [
    "my_short_function(name=\"Super Man\")"
   ]
  },
  {
   "cell_type": "code",
   "execution_count": 11,
   "id": "5482c121",
   "metadata": {},
   "outputs": [
    {
     "data": {
      "text/plain": [
       "[[0, 9, 19],\n",
       " [1, 8, 18],\n",
       " [2, 7, 17],\n",
       " [3, 6, 16],\n",
       " [4, 5, 15],\n",
       " [5, 4, 14],\n",
       " [6, 3, 13],\n",
       " [7, 2, 12],\n",
       " [8, 1, 11],\n",
       " [9, 0, 10]]"
      ]
     },
     "execution_count": 11,
     "metadata": {},
     "output_type": "execute_result"
    }
   ],
   "source": [
    "numbers=[[9, 0, 10],\n",
    "         [8, 1, 11],\n",
    "         [7, 2, 12],\n",
    "         [6, 3, 13],\n",
    "         [5, 4, 14],\n",
    "         [4, 5, 15],\n",
    "         [3, 6, 16],\n",
    "         [2, 7, 17],\n",
    "         [1, 8, 18],\n",
    "         [0, 9, 19]]\n",
    "\n",
    "sorted(numbers)                         # Sort by comparing the default key \n",
    "                                        # (i.e. the 1st element) "
   ]
  },
  {
   "cell_type": "code",
   "execution_count": 12,
   "id": "0faedcbb",
   "metadata": {},
   "outputs": [
    {
     "data": {
      "text/plain": [
       "[[9, 0, 10],\n",
       " [8, 1, 11],\n",
       " [7, 2, 12],\n",
       " [6, 3, 13],\n",
       " [5, 4, 14],\n",
       " [4, 5, 15],\n",
       " [3, 6, 16],\n",
       " [2, 7, 17],\n",
       " [1, 8, 18],\n",
       " [0, 9, 19]]"
      ]
     },
     "execution_count": 12,
     "metadata": {},
     "output_type": "execute_result"
    }
   ],
   "source": [
    "sorted(numbers, key=lambda x: x[1])     # Sort by comparing a custom key\n",
    "                                        # that uses the 2nd element"
   ]
  },
  {
   "cell_type": "code",
   "execution_count": 13,
   "id": "b5f66f08",
   "metadata": {},
   "outputs": [
    {
     "data": {
      "text/plain": [
       "[[9, 0, 10],\n",
       " [8, 1, 11],\n",
       " [7, 2, 12],\n",
       " [6, 3, 13],\n",
       " [5, 4, 14],\n",
       " [4, 5, 15],\n",
       " [3, 6, 16],\n",
       " [2, 7, 17],\n",
       " [1, 8, 18],\n",
       " [0, 9, 19]]"
      ]
     },
     "execution_count": 13,
     "metadata": {},
     "output_type": "execute_result"
    }
   ],
   "source": [
    "sorted(numbers, key=lambda x: sum(x))   # Sort by comparing a custom key\n",
    "                                        # that uses the sum of the elements"
   ]
  },
  {
   "cell_type": "markdown",
   "id": "fb9f6b0d",
   "metadata": {},
   "source": [
    "### 1.4 Optional arguments"
   ]
  },
  {
   "cell_type": "code",
   "execution_count": 14,
   "id": "d08b5a0e",
   "metadata": {},
   "outputs": [],
   "source": [
    "def greeting(name='no one'):\n",
    "    if name == 'Batman':\n",
    "        return 'Hello Batman! So, nice to meet you!'\n",
    "    else:\n",
    "        return f'Hello {name}!'"
   ]
  },
  {
   "cell_type": "code",
   "execution_count": 15,
   "id": "f03dbcba",
   "metadata": {},
   "outputs": [
    {
     "data": {
      "text/plain": [
       "'Hello no one!'"
      ]
     },
     "execution_count": 15,
     "metadata": {},
     "output_type": "execute_result"
    }
   ],
   "source": [
    "greeting()"
   ]
  },
  {
   "cell_type": "code",
   "execution_count": 16,
   "id": "2951bbae",
   "metadata": {},
   "outputs": [
    {
     "name": "stdout",
     "output_type": "stream",
     "text": [
      "I am Batman!\n",
      "I---am---Batman!\n"
     ]
    }
   ],
   "source": [
    "print('I', 'am', 'Batman!')                 # Just for comparison\n",
    "#> I am Batman!\n",
    "print('I', 'am', 'Batman!', sep='---')  \n",
    "#> I---am---Batman!"
   ]
  },
  {
   "cell_type": "markdown",
   "id": "c4c0d26a",
   "metadata": {},
   "source": [
    "## 2 The importance of functions?"
   ]
  },
  {
   "cell_type": "markdown",
   "id": "0f7c61c6",
   "metadata": {},
   "source": [
    "### 2.1 An argument for functions"
   ]
  },
  {
   "cell_type": "markdown",
   "id": "e8726587",
   "metadata": {},
   "source": [
    "\n",
    "functions are a good idea \n",
    "\n",
    "Abstraction of details\n",
    "- Hiding of 'stuff' = abstraction\n",
    "Reusability of code--> if encapsulate a chunk of code in a function, it becomes straightforward to reuse rather than re-copying and pasting everytime. this means the code will be shorter and more compact\n",
    "\n",
    "Maintainability of code = with functions, code is easier to change and maintain "
   ]
  },
  {
   "cell_type": "markdown",
   "id": "da5a5d93",
   "metadata": {},
   "source": [
    "### 2.2 A word of caution"
   ]
  },
  {
   "cell_type": "markdown",
   "id": "ab9e747a",
   "metadata": {},
   "source": [
    "Having too many functions can make it difficult to read code and also increase computational overheads"
   ]
  },
  {
   "cell_type": "markdown",
   "id": "cc137574",
   "metadata": {},
   "source": [
    "## Exercise 1 :  Do you know why?"
   ]
  },
  {
   "cell_type": "code",
   "execution_count": 2,
   "id": "8b88685b",
   "metadata": {},
   "outputs": [],
   "source": [
    "def greeting(name):\n",
    "    if name == 'Batman':\n",
    "        return 'Hello Batman! So, nice to meet you!'\n",
    "    return f'Hello {name}!'"
   ]
  },
  {
   "cell_type": "markdown",
   "id": "0f2dae5f",
   "metadata": {},
   "source": [
    "The code works as expected although it does not have an else statement.\n",
    "\n",
    "\n",
    "This is beause the return statemetn 'Hello Batman! So, nice to meet you!' will be only be executed when the condition of if mentioned above is true.\n",
    "\n",
    "\n",
    "Otherwise, when the if condition is not true, it will execute the line of *return f'Hello{name}!*"
   ]
  },
  {
   "cell_type": "markdown",
   "id": "f30983f1",
   "metadata": {},
   "source": [
    "## Exercise 2 :  Calculator functions"
   ]
  },
  {
   "cell_type": "code",
   "execution_count": 87,
   "id": "7b1f8c32",
   "metadata": {},
   "outputs": [
    {
     "name": "stdout",
     "output_type": "stream",
     "text": [
      "[100 100 100 100 100]\n"
     ]
    }
   ],
   "source": [
    "x=np.array([36, 34, 44, 76, 27])\n",
    "y=np.array([64, 66, 56, 24, 73])\n",
    "\n",
    "def sum_function(x,y):\n",
    "    return x+y\n",
    "print(sum_function(x,y))"
   ]
  },
  {
   "cell_type": "code",
   "execution_count": 86,
   "id": "6b613a43",
   "metadata": {},
   "outputs": [
    {
     "name": "stdout",
     "output_type": "stream",
     "text": [
      "[2304 2244 2464 1824 1971]\n"
     ]
    }
   ],
   "source": [
    "def multiply_function(x,y):\n",
    "    return x*y\n",
    "print(multiply_function(x,y))"
   ]
  },
  {
   "cell_type": "code",
   "execution_count": 85,
   "id": "79e80535",
   "metadata": {},
   "outputs": [
    {
     "name": "stdout",
     "output_type": "stream",
     "text": [
      "[-28 -32 -12  52 -46]\n"
     ]
    }
   ],
   "source": [
    "def subtract_function(x,y):\n",
    "    return x-y\n",
    "print(subtract_function(x,y))"
   ]
  },
  {
   "cell_type": "code",
   "execution_count": 89,
   "id": "a55239eb",
   "metadata": {},
   "outputs": [
    {
     "name": "stdout",
     "output_type": "stream",
     "text": [
      "[0.5625     0.51515152 0.78571429 3.16666667 0.36986301]\n"
     ]
    }
   ],
   "source": [
    "def division_function(x,y):\n",
    "    if np.any(y==0):     #syntax should be (y==0).any() or np>any(y==0). SHOULDN\"T be y.any()==0 or y.all()!=0\n",
    "        exit()\n",
    "    return x/y\n",
    "print(division_function(x,y))"
   ]
  },
  {
   "cell_type": "markdown",
   "id": "4b8079a6",
   "metadata": {},
   "source": [
    "## Exercise 3 :  max_info() with NumPy"
   ]
  },
  {
   "cell_type": "code",
   "execution_count": 53,
   "id": "1b690d8d",
   "metadata": {},
   "outputs": [],
   "source": [
    "numberss = [40, 27, 83, 44, 74, 51, 76, 77, 10, 49]"
   ]
  },
  {
   "cell_type": "code",
   "execution_count": 52,
   "id": "120ee684",
   "metadata": {},
   "outputs": [
    {
     "name": "stdout",
     "output_type": "stream",
     "text": [
      "83 2\n"
     ]
    }
   ],
   "source": [
    "numberss = [40, 27, 83, 44, 74, 51, 76, 77, 10, 49]\n",
    "\n",
    "def max_info(numberss):\n",
    "    np_numbers=np.array(numbers)\n",
    "    return np.argmax(numberss)\n",
    "\n",
    "print(np.max(numberss), np.argmax(numberss))\n",
    "\n",
    "# argmax returns indices of the max element of the array in a particular axis."
   ]
  }
 ],
 "metadata": {
  "kernelspec": {
   "display_name": "Python 3 (ipykernel)",
   "language": "python",
   "name": "python3"
  },
  "language_info": {
   "codemirror_mode": {
    "name": "ipython",
    "version": 3
   },
   "file_extension": ".py",
   "mimetype": "text/x-python",
   "name": "python",
   "nbconvert_exporter": "python",
   "pygments_lexer": "ipython3",
   "version": "3.10.8"
  },
  "toc": {
   "base_numbering": 1,
   "nav_menu": {},
   "number_sections": true,
   "sideBar": true,
   "skip_h1_title": false,
   "title_cell": "Table of Contents",
   "title_sidebar": "Contents",
   "toc_cell": false,
   "toc_position": {},
   "toc_section_display": true,
   "toc_window_display": false
  },
  "varInspector": {
   "cols": {
    "lenName": 16,
    "lenType": 16,
    "lenVar": 40
   },
   "kernels_config": {
    "python": {
     "delete_cmd_postfix": "",
     "delete_cmd_prefix": "del ",
     "library": "var_list.py",
     "varRefreshCmd": "print(var_dic_list())"
    },
    "r": {
     "delete_cmd_postfix": ") ",
     "delete_cmd_prefix": "rm(",
     "library": "var_list.r",
     "varRefreshCmd": "cat(var_dic_list()) "
    }
   },
   "types_to_exclude": [
    "module",
    "function",
    "builtin_function_or_method",
    "instance",
    "_Feature"
   ],
   "window_display": false
  },
  "vscode": {
   "interpreter": {
    "hash": "31f2aee4e71d21fbe5cf8b01ff0e069b9275f58929596ceb00d14d90e3e16cd6"
   }
  }
 },
 "nbformat": 4,
 "nbformat_minor": 5
}
