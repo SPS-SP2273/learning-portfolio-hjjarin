{
 "cells": [
  {
   "cell_type": "markdown",
   "id": "123456",
   "metadata": {},
   "source": [
    "<div style=\"text-align:left;font-size:2em\"><span style=\"font-weight:bolder;font-size:1.25em\">SP2273 | Learning Portfolio</span><br><br><span style=\"font-weight:bold;color:darkred\">Functions (Good)</span></div>"
   ]
  },
  {
   "cell_type": "markdown",
   "id": "b3ffa95a",
   "metadata": {},
   "source": [
    "## 1 Check, balances and contingencies"
   ]
  },
  {
   "cell_type": "markdown",
   "id": "e3888402",
   "metadata": {},
   "source": [
    "### 1.1 assert"
   ]
  },
  {
   "cell_type": "code",
   "execution_count": 4,
   "id": "c33fddfa",
   "metadata": {},
   "outputs": [],
   "source": [
    "x = 10\n",
    "assert x >= 0, \"x is becoming negative!\""
   ]
  },
  {
   "cell_type": "code",
   "execution_count": 5,
   "id": "6f9c59ba",
   "metadata": {},
   "outputs": [
    {
     "ename": "AssertionError",
     "evalue": "x is becoming negative!",
     "output_type": "error",
     "traceback": [
      "\u001b[0;31m---------------------------------------------------------------------------\u001b[0m",
      "\u001b[0;31mAssertionError\u001b[0m                            Traceback (most recent call last)",
      "Cell \u001b[0;32mIn[5], line 2\u001b[0m\n\u001b[1;32m      1\u001b[0m x \u001b[38;5;241m=\u001b[39m \u001b[38;5;241m-\u001b[39m\u001b[38;5;241m1\u001b[39m\n\u001b[0;32m----> 2\u001b[0m \u001b[38;5;28;01massert\u001b[39;00m x \u001b[38;5;241m>\u001b[39m\u001b[38;5;241m=\u001b[39m \u001b[38;5;241m0\u001b[39m, \u001b[38;5;124m\"\u001b[39m\u001b[38;5;124mx is becoming negative!\u001b[39m\u001b[38;5;124m\"\u001b[39m\n",
      "\u001b[0;31mAssertionError\u001b[0m: x is becoming negative!"
     ]
    }
   ],
   "source": [
    "x = -1\n",
    "assert x >= 0, \"x is becoming negative!\""
   ]
  },
  {
   "cell_type": "markdown",
   "id": "f9caf8bc",
   "metadata": {},
   "source": [
    "Python has a command called assert that can check a condition and halt the execution if necessary. It also gives the option of printing a message.\n",
    "\n",
    "The programme will run for as long as the condition is True. If it fails, then an AssertationError is raised, and the programme stops running.\n",
    "\n"
   ]
  },
  {
   "cell_type": "markdown",
   "id": "2b526d6d",
   "metadata": {},
   "source": [
    "### 1.2 try-except"
   ]
  },
  {
   "cell_type": "code",
   "execution_count": 6,
   "id": "d9294536",
   "metadata": {},
   "outputs": [
    {
     "name": "stdout",
     "output_type": "stream",
     "text": [
      "Give me a number and I will calculate its square.2\n",
      "The square of 2 is 4!\n"
     ]
    }
   ],
   "source": [
    "number=input(\"Give me a number and I will calculate its square.\")\n",
    "square=int(number)**2              # Convert English to number\n",
    "print(f'The square of {number} is {square}!')"
   ]
  },
  {
   "cell_type": "code",
   "execution_count": 7,
   "id": "e4cdef3d",
   "metadata": {},
   "outputs": [
    {
     "name": "stdout",
     "output_type": "stream",
     "text": [
      "Give me a number and I will calculate its square.3\n",
      "The square of 3 is 9!\n"
     ]
    }
   ],
   "source": [
    "try:\n",
    "    number=input(\"Give me a number and I will calculate its square.\")\n",
    "    square=int(number)**2\n",
    "    print(f'The square of {number} is {square}!')\n",
    "except:\n",
    "    print(f\"Oh oh! I cannot square {number}!\")"
   ]
  },
  {
   "cell_type": "markdown",
   "id": "e3f5368e",
   "metadata": {},
   "source": [
    "## 2 Some loose ends"
   ]
  },
  {
   "cell_type": "markdown",
   "id": "efd3a754",
   "metadata": {},
   "source": [
    "### 2.1 Positional, keyword and default arguments"
   ]
  },
  {
   "cell_type": "code",
   "execution_count": 9,
   "id": "da76afef",
   "metadata": {},
   "outputs": [],
   "source": [
    "def funny_add(a, b, c=1):\n",
    "    return a + 10*b + 100*c\n",
    "\n",
    "#three ‘ways’ to pass a value to an argument. positional, keyword or default. "
   ]
  },
  {
   "cell_type": "code",
   "execution_count": 10,
   "id": "a8b5bcfc",
   "metadata": {},
   "outputs": [
    {
     "data": {
      "text/plain": [
       "121"
      ]
     },
     "execution_count": 10,
     "metadata": {},
     "output_type": "execute_result"
    }
   ],
   "source": [
    "funny_add(1, 2)           # Two positional, 1 default\n",
    "#> 121\n",
    "funny_add(1, 2, 3)        # Three positional\n",
    "#> 321\n",
    "funny_add(a=1, b=2)       # Two keyword, 1 default\n",
    "#> 121\n",
    "funny_add(c=3, b=1, a=2)  # Three keyword\n",
    "#> 312\n",
    "funny_add(1, c=3, b=2)    # One positional, 2 keyword\n",
    "#> 321\n",
    "funny_add(1, b=2)         # One positional, 1 keyword, 1 default\n",
    "#> 121"
   ]
  },
  {
   "cell_type": "code",
   "execution_count": 12,
   "id": "a1422b36",
   "metadata": {},
   "outputs": [
    {
     "ename": "SyntaxError",
     "evalue": "positional argument follows keyword argument (4031747735.py, line 1)",
     "output_type": "error",
     "traceback": [
      "\u001b[0;36m  Cell \u001b[0;32mIn[12], line 1\u001b[0;36m\u001b[0m\n\u001b[0;31m    funny_add(a=2, 1)\u001b[0m\n\u001b[0m                    ^\u001b[0m\n\u001b[0;31mSyntaxError\u001b[0m\u001b[0;31m:\u001b[0m positional argument follows keyword argument\n"
     ]
    }
   ],
   "source": [
    "funny_add(a=2, 1)        \n",
    "\n",
    "#not work because Python cannot unambiguously figure out what the position of 1 is"
   ]
  },
  {
   "cell_type": "markdown",
   "id": "a07bef18",
   "metadata": {},
   "source": [
    "### 2.2 Docstrings"
   ]
  },
  {
   "cell_type": "code",
   "execution_count": 13,
   "id": "9e1e5ead",
   "metadata": {},
   "outputs": [],
   "source": [
    "def funny_add(a, b, c=1):\n",
    "    '''\n",
    "    A test function to demonstrate how \n",
    "    positional, keyword and default arguments \n",
    "    work.\n",
    "    '''\n",
    "    return a + 10*b + 100*c"
   ]
  },
  {
   "cell_type": "code",
   "execution_count": 15,
   "id": "879933bd",
   "metadata": {},
   "outputs": [
    {
     "name": "stdout",
     "output_type": "stream",
     "text": [
      "Help on function funny_add in module __main__:\n",
      "\n",
      "funny_add(a, b, c=1)\n",
      "    A test function to demonstrate how \n",
      "    positional, keyword and default arguments \n",
      "    work.\n",
      "\n"
     ]
    }
   ],
   "source": [
    "help(funny_add)\n",
    "\n",
    "#Docstrings can be used for writing multiline comments, but the practice is frowned upon by puritans"
   ]
  },
  {
   "cell_type": "markdown",
   "id": "e8503e50",
   "metadata": {},
   "source": [
    "### 2.3 Function are first class citizens"
   ]
  },
  {
   "cell_type": "code",
   "execution_count": 19,
   "id": "375de318",
   "metadata": {},
   "outputs": [
    {
     "data": {
      "text/plain": [
       "-1.0"
      ]
     },
     "execution_count": 19,
     "metadata": {},
     "output_type": "execute_result"
    }
   ],
   "source": [
    "def my_function(angle, trig_function):\n",
    "        return trig_function(angle)\n",
    "\n",
    "my_function(np.pi/2, np.sin)        \n",
    "#> 1.0\n",
    "my_function(np.pi/2, np.cos)        \n",
    "#> 6.123233995736766e-17\n",
    "my_function(np.pi/2, lambda x: np.cos(2*x))  \n",
    "#> -1.0\n",
    "\n",
    "#we can pass a function as an argument to another function"
   ]
  },
  {
   "cell_type": "markdown",
   "id": "12bcb294",
   "metadata": {},
   "source": [
    "### 2.4 More unpacking"
   ]
  },
  {
   "cell_type": "code",
   "execution_count": 20,
   "id": "66f15b32",
   "metadata": {},
   "outputs": [
    {
     "name": "stdout",
     "output_type": "stream",
     "text": [
      "1 2 3\n"
     ]
    }
   ],
   "source": [
    "x, y, z = [1, 2, 3]\n",
    "print(x, y, z)"
   ]
  },
  {
   "cell_type": "code",
   "execution_count": 21,
   "id": "ba7faf6f",
   "metadata": {},
   "outputs": [
    {
     "name": "stdout",
     "output_type": "stream",
     "text": [
      "1 2 3\n"
     ]
    }
   ],
   "source": [
    "x, y, z = np.array([1, 2, 3])\n",
    "print(x, y, z)"
   ]
  },
  {
   "cell_type": "code",
   "execution_count": 22,
   "id": "724cb0b0",
   "metadata": {},
   "outputs": [
    {
     "name": "stdout",
     "output_type": "stream",
     "text": [
      "1 [2, 3, 4] 5\n"
     ]
    }
   ],
   "source": [
    "x, *y, z = np.array([1, 2, 3, 4, 5])\n",
    "print(x, y, z)"
   ]
  },
  {
   "cell_type": "code",
   "execution_count": 23,
   "id": "9aa53482",
   "metadata": {},
   "outputs": [
    {
     "name": "stdout",
     "output_type": "stream",
     "text": [
      "1 5\n"
     ]
    }
   ],
   "source": [
    "x, *_, y = [1, 2, 3, 4, 5]\n",
    "print(x, y)"
   ]
  },
  {
   "cell_type": "markdown",
   "id": "21103264",
   "metadata": {},
   "source": [
    "## Exercise 1 :  A better calculator I"
   ]
  },
  {
   "cell_type": "code",
   "execution_count": 26,
   "id": "d37d8189",
   "metadata": {},
   "outputs": [],
   "source": [
    "x=np.array([36, 34, 44, 76, 27])\n",
    "y=np.array([64, 66, 56, 24, 73])"
   ]
  },
  {
   "cell_type": "code",
   "execution_count": 3,
   "id": "8198a2a6",
   "metadata": {},
   "outputs": [
    {
     "ename": "NameError",
     "evalue": "name 'x' is not defined",
     "output_type": "error",
     "traceback": [
      "\u001b[0;31m---------------------------------------------------------------------------\u001b[0m",
      "\u001b[0;31mNameError\u001b[0m                                 Traceback (most recent call last)",
      "Cell \u001b[0;32mIn[3], line 5\u001b[0m\n\u001b[1;32m      3\u001b[0m \u001b[38;5;28;01mdef\u001b[39;00m \u001b[38;5;21msum_function\u001b[39m(x,y):\n\u001b[1;32m      4\u001b[0m     \u001b[38;5;28;01mreturn\u001b[39;00m x\u001b[38;5;241m+\u001b[39my\n\u001b[0;32m----> 5\u001b[0m \u001b[38;5;28mprint\u001b[39m(sum_function(\u001b[43mx\u001b[49m,y))\n\u001b[1;32m      7\u001b[0m \u001b[38;5;28;01massert\u001b[39;00m x \u001b[38;5;241m>\u001b[39m\u001b[38;5;241m=\u001b[39m \u001b[38;5;241m101\u001b[39m, \u001b[38;5;124m\"\u001b[39m\u001b[38;5;124mx is larger than 101!\u001b[39m\u001b[38;5;124m\"\u001b[39m\n",
      "\u001b[0;31mNameError\u001b[0m: name 'x' is not defined"
     ]
    }
   ],
   "source": [
    "#not done yet \n",
    "\n",
    "def sum_function(x,y):\n",
    "    return x+y\n",
    "print(sum_function(x,y))\n",
    "\n",
    "assert x >= 101, \"x is larger than 101!\""
   ]
  },
  {
   "cell_type": "code",
   "execution_count": 39,
   "id": "609630b9",
   "metadata": {},
   "outputs": [
    {
     "name": "stdout",
     "output_type": "stream",
     "text": [
      "[2304 2244 2464 1824 1971]\n"
     ]
    }
   ],
   "source": [
    "#not done yet \n",
    "\n",
    "def multiply_function(x,y):\n",
    "    return x*y\n",
    "print(multiply_function(x,y))"
   ]
  },
  {
   "cell_type": "code",
   "execution_count": 50,
   "id": "de346e10",
   "metadata": {},
   "outputs": [
    {
     "name": "stdout",
     "output_type": "stream",
     "text": [
      "[-28 -32 -12  52 -46]\n"
     ]
    }
   ],
   "source": [
    "#not done yet \n",
    "\n",
    "def subtract_function(x,y):\n",
    "    if y.any()==0:\n",
    "        assert x >= 0, \"x is becoming negative!\"\n",
    "    return x-y\n",
    "print(subtract_function(x,y))"
   ]
  },
  {
   "cell_type": "code",
   "execution_count": null,
   "id": "c6424ce2",
   "metadata": {},
   "outputs": [],
   "source": [
    "#not done yet \n",
    "\n",
    "def division_function(x,y):\n",
    "    if y.any==0:\n",
    "        exit()\n",
    "    return x/y\n",
    "print(division_function(x,y))"
   ]
  },
  {
   "cell_type": "markdown",
   "id": "c1d9d2f6",
   "metadata": {},
   "source": [
    "## Exercise 2 :  A better calculator II"
   ]
  },
  {
   "cell_type": "code",
   "execution_count": 69,
   "id": "f9a810fe",
   "metadata": {},
   "outputs": [],
   "source": [
    "x=np.array([36, 34, 44, 76, 27])\n",
    "y=np.array([64, 66, 56, 24, 73])"
   ]
  },
  {
   "cell_type": "code",
   "execution_count": 70,
   "id": "3cf4bca3",
   "metadata": {},
   "outputs": [
    {
     "name": "stdout",
     "output_type": "stream",
     "text": [
      "Give me summation of x and y1\n",
      "The sum of 1 is [100 100 100 100 100]!\n"
     ]
    }
   ],
   "source": [
    "try:\n",
    "    number=input(\"Give me summation of x and y\")\n",
    "    sum=x+y\n",
    "    print(f'The sum of {number} is {sum}!')\n",
    "except:\n",
    "    print(f\"Oh oh! I cannot add {number}!\")"
   ]
  },
  {
   "cell_type": "code",
   "execution_count": 71,
   "id": "bc2dd481",
   "metadata": {},
   "outputs": [
    {
     "name": "stdout",
     "output_type": "stream",
     "text": [
      "Give me multiplication of x and y2\n",
      "The multiplication of 2 is [2304 2244 2464 1824 1971]!\n"
     ]
    }
   ],
   "source": [
    "try:\n",
    "    number=input(\"Give me multiplication of x and y\")\n",
    "    multiplication=x*y\n",
    "    print(f'The multiplication of {number} is {multiplication}!')\n",
    "except:\n",
    "    print(f\"Oh oh! I cannot multiply {number}!\")"
   ]
  },
  {
   "cell_type": "code",
   "execution_count": 74,
   "id": "602cc47a",
   "metadata": {},
   "outputs": [
    {
     "name": "stdout",
     "output_type": "stream",
     "text": [
      "Give me division of x and y1\n",
      "The division of 1 is [0.5625     0.51515152 0.78571429 3.16666667 0.36986301]!\n"
     ]
    }
   ],
   "source": [
    "try:\n",
    "    number=input(\"Give me division of x and y\")\n",
    "    division=x/y\n",
    "    print(f'The division of {number} is {division}!')\n",
    "except:\n",
    "    if np.any(y==0):\n",
    "        exit()\n",
    "    print(f\"Oh oh! I cannot divide {number}!\")"
   ]
  },
  {
   "cell_type": "code",
   "execution_count": 80,
   "id": "d1766742",
   "metadata": {},
   "outputs": [
    {
     "name": "stdout",
     "output_type": "stream",
     "text": [
      "Give me subtraction of x and y1\n",
      "Oh oh! I cannot subtract 1!\n"
     ]
    }
   ],
   "source": [
    "try:\n",
    "    number=input(\"Give me subtraction of x and y\")\n",
    "    multiplication=x-y\n",
    "    print(f'The subtraction of {number} is {subtraction}!')\n",
    "except:\n",
    "    print(f\"Oh oh! I cannot subtract {number}!\")"
   ]
  }
 ],
 "metadata": {
  "kernelspec": {
   "display_name": "Python 3 (ipykernel)",
   "language": "python",
   "name": "python3"
  },
  "language_info": {
   "codemirror_mode": {
    "name": "ipython",
    "version": 3
   },
   "file_extension": ".py",
   "mimetype": "text/x-python",
   "name": "python",
   "nbconvert_exporter": "python",
   "pygments_lexer": "ipython3",
   "version": "3.10.8"
  },
  "toc": {
   "base_numbering": 1,
   "nav_menu": {},
   "number_sections": true,
   "sideBar": true,
   "skip_h1_title": false,
   "title_cell": "Table of Contents",
   "title_sidebar": "Contents",
   "toc_cell": false,
   "toc_position": {},
   "toc_section_display": true,
   "toc_window_display": false
  },
  "varInspector": {
   "cols": {
    "lenName": 16,
    "lenType": 16,
    "lenVar": 40
   },
   "kernels_config": {
    "python": {
     "delete_cmd_postfix": "",
     "delete_cmd_prefix": "del ",
     "library": "var_list.py",
     "varRefreshCmd": "print(var_dic_list())"
    },
    "r": {
     "delete_cmd_postfix": ") ",
     "delete_cmd_prefix": "rm(",
     "library": "var_list.r",
     "varRefreshCmd": "cat(var_dic_list()) "
    }
   },
   "types_to_exclude": [
    "module",
    "function",
    "builtin_function_or_method",
    "instance",
    "_Feature"
   ],
   "window_display": false
  },
  "vscode": {
   "interpreter": {
    "hash": "31f2aee4e71d21fbe5cf8b01ff0e069b9275f58929596ceb00d14d90e3e16cd6"
   }
  }
 },
 "nbformat": 4,
 "nbformat_minor": 5
}
