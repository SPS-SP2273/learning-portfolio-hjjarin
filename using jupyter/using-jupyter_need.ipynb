{
 "cells": [
  {
   "cell_type": "code",
   "execution_count": 1,
   "id": "f98ae28b",
   "metadata": {},
   "outputs": [
    {
     "name": "stdout",
     "output_type": "stream",
     "text": [
      "Hello World!\n"
     ]
    }
   ],
   "source": [
    "print('Hello World!')"
   ]
  },
  {
   "cell_type": "markdown",
   "id": "3a00b826",
   "metadata": {},
   "source": [
    "The ships hung in the sky in much the same way that bricks don’t."
   ]
  },
  {
   "cell_type": "markdown",
   "id": "5c0476f4",
   "metadata": {},
   "source": [
    "The ships *hung in the sky* in much the same way that **bricks don’t.**<sup>1</sup><sub>QUOTE</sub>\n",
    "\n"
   ]
  },
  {
   "cell_type": "markdown",
   "id": "5fd65b35",
   "metadata": {},
   "source": [
    "# largest heading \n",
    "\n",
    "## large heading \n",
    "\n",
    "### the third-largest heading\n",
    "\n",
    "#### the smallest heading"
   ]
  },
  {
   "cell_type": "markdown",
   "id": "dd5b6d57",
   "metadata": {},
   "source": [
    "```python\n",
    "print('Hello World!')\n",
    "```"
   ]
  },
  {
   "cell_type": "markdown",
   "id": "c6bcbdb6",
   "metadata": {},
   "source": [
    "[sp2273 link](https://sps.nus.edu.sg/sp2273)"
   ]
  },
  {
   "cell_type": "markdown",
   "id": "4c37d63c",
   "metadata": {},
   "source": [
    "![](https://nus.edu.sg/images/default-source/base/logo.png)\n"
   ]
  },
  {
   "cell_type": "markdown",
   "id": "5baf6cba",
   "metadata": {},
   "source": [
    "| A    |  B   |    C |\n",
    "| :--- | :--: | ---: |\n",
    "| a1   |  b1  |   c1 |\n",
    "| a2   |  b2  |   c2 |\n",
    "| a3   |  b3  |   c3 |\n"
   ]
  },
  {
   "cell_type": "markdown",
   "id": "02c75cb9",
   "metadata": {},
   "source": [
    "1. Master Yoda\n",
    "2. Luke Skywalker\n",
    "3. Anakin Skywalker\n"
   ]
  },
  {
   "cell_type": "markdown",
   "id": "1e9aa532",
   "metadata": {},
   "source": [
    "- Master Yoda\n",
    "- Luke Skywalker\n",
    "- Anakin Skywalker"
   ]
  },
  {
   "cell_type": "markdown",
   "id": "6c5d5049",
   "metadata": {},
   "source": [
    "1. Master Yoda\n",
    "   1. Was a Jedi\n",
    "   1. Was a bit green\n",
    "1. Luke Skywalker\n",
    "   1. Was a Jedi\n",
    "   1. Is Anakin's son.\n",
    "1. Anakin Skywalker\n",
    "   1. Was a Jedi then became a baddie\n",
    "   1. Is famous for saying 'Luke, I am your father'"
   ]
  },
  {
   "cell_type": "markdown",
   "id": "1c574513",
   "metadata": {},
   "source": [
    "1. Master Yoda\n",
    "   - Was a Jedi\n",
    "   - Was a bit green\n",
    "2. Luke Skywalker\n",
    "   - Was a Jedi\n",
    "   - Is Anakin's son.\n",
    "3. Anakin Skywalker\n",
    "   - Was a Jedi then became a baddie\n",
    "   - Is famous for saying 'Luke, I am your father'"
   ]
  },
  {
   "cell_type": "markdown",
   "id": "7c354a4e",
   "metadata": {},
   "source": [
    "$$\n",
    "x=$\\sqrt{a+b+c}$\n",
    "$$"
   ]
  },
  {
   "cell_type": "markdown",
   "id": "5c3bdacb",
   "metadata": {},
   "source": [
    "# Exercise Page"
   ]
  },
  {
   "cell_type": "markdown",
   "id": "aa33695f",
   "metadata": {},
   "source": [
    "![](https://upload.wikimedia.org/wikipedia/commons/thumb/f/f8/Polynomialdeg2.svg/600px-Polynomialdeg2.svg.png)\n",
    "\n",
    "\n",
    "### Introduction\n",
    "The general form of a quadratic equation is:\n",
    "\n",
    "$$\n",
    "ax^{2}+bx+c=0\n",
    "$$\n",
    "\n",
    "\n",
    "### Solutions \n",
    "\n",
    "Provided a ≠ 0\n",
    ", we can use an elementary algebraic method called [completeing the \n",
    "square](https://en.wikipedia.org/wiki/Completing_the_square) to show that a quadratic equation has the following solution:\n",
    "\n",
    "$$\n",
    "x=\\dfrac{-b \\pm \\sqrt{b^2-4ac}}{2a}\n",
    "$$\n",
    "\n",
    "### Discriminants \n",
    "The quantity Δ=b^2-4ac is called the **discriminant** of the equation and decides the nature of its solutions. The table below shows the various possibilities.\n",
    "\n",
    "|**discriminant**            |**Roots**                      |\n",
    "| :---                       | :--:                          |\n",
    "|Δ=b^2-4ac = 0               | A single solution $\\dfrac{-b}{(2a)}$|\n",
    "|Δ=b^2-4ac > 0               | Two distinct solutions|\n",
    "|Δ=b^2-4ac < 0               |No real solutions; both are complex.|\n",
    "\n",
    " "
   ]
  },
  {
   "cell_type": "markdown",
   "id": "ecd93331",
   "metadata": {},
   "source": [
    "# Exercise 2: In my Own Words \n",
    "\n",
    "1. what is **repository?**\n",
    "repository is like a folder used to keep track and save the history of the project files and revision, such as our learning portfolios .\n",
    "\n",
    "2. Git keeps track of **changes**in the files in our repository.\n",
    "\n",
    "3. what is commit? \n",
    "commit is specifying and making changes to the file \n",
    "\n",
    "4. what is a push? \n",
    "Push is to save the changes to the origin so that the changes can be shared with Github\n",
    "\n",
    "5. What is the difference between GitHub and GitHub Desktop?\n",
    "The difference is that GitHub can be shared with other individuals and parties, whereas we use graphical user interface (GUI) for GitHub desktop to interact and upload changes to the GitHub \n",
    "\n",
    "6. Is there an opposite to a push? \n",
    "yes, git fetch."
   ]
  }
 ],
 "metadata": {
  "kernelspec": {
   "display_name": "Python 3 (ipykernel)",
   "language": "python",
   "name": "python3"
  },
  "language_info": {
   "codemirror_mode": {
    "name": "ipython",
    "version": 3
   },
   "file_extension": ".py",
   "mimetype": "text/x-python",
   "name": "python",
   "nbconvert_exporter": "python",
   "pygments_lexer": "ipython3",
   "version": "3.10.8"
  }
 },
 "nbformat": 4,
 "nbformat_minor": 5
}
