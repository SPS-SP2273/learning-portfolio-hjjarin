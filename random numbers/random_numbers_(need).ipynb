{
 "cells": [
  {
   "cell_type": "markdown",
   "id": "123456",
   "metadata": {},
   "source": [
    "<div style=\"text-align:left;font-size:2em\"><span style=\"font-weight:bolder;font-size:1.25em\">SP2273 | Learning Portfolio</span><br><br><span style=\"font-weight:bold;color:darkred\">Random Numbers (Need)</span></div>"
   ]
  },
  {
   "cell_type": "markdown",
   "id": "d55b9aea",
   "metadata": {},
   "source": [
    "## 1 Random Numbers"
   ]
  },
  {
   "cell_type": "markdown",
   "id": "ec08f977",
   "metadata": {},
   "source": [
    "### 1.1 Real and Pseudo Random Numbers"
   ]
  },
  {
   "cell_type": "code",
   "execution_count": null,
   "id": "f7835230",
   "metadata": {},
   "outputs": [],
   "source": [
    "#device that provides random numbers is called a random number generator (RNG"
   ]
  },
  {
   "cell_type": "markdown",
   "id": "ec938e2d",
   "metadata": {},
   "source": [
    "### 1.2 NumPy’s PRNG"
   ]
  },
  {
   "cell_type": "code",
   "execution_count": 1,
   "id": "b5bc00c3",
   "metadata": {},
   "outputs": [
    {
     "data": {
      "text/plain": [
       "0.4733140759973482"
      ]
     },
     "execution_count": 1,
     "metadata": {},
     "output_type": "execute_result"
    }
   ],
   "source": [
    "np.random.rand()                # Give one number"
   ]
  },
  {
   "cell_type": "code",
   "execution_count": 2,
   "id": "f1a64f76",
   "metadata": {},
   "outputs": [
    {
     "data": {
      "text/plain": [
       "array([0.57364854, 0.57281812, 0.82074074, 0.57961808, 0.56884698,\n",
       "       0.22496928, 0.51387778, 0.57598057, 0.04045412, 0.0617335 ])"
      ]
     },
     "execution_count": 2,
     "metadata": {},
     "output_type": "execute_result"
    }
   ],
   "source": [
    "np.random.rand(10)              # Give ten numbers`"
   ]
  },
  {
   "cell_type": "code",
   "execution_count": 3,
   "id": "7234bb92",
   "metadata": {},
   "outputs": [
    {
     "data": {
      "text/plain": [
       "array([[0.89393317, 0.54405182],\n",
       "       [0.53001893, 0.45981498],\n",
       "       [0.93385274, 0.27288614],\n",
       "       [0.06741988, 0.43123281],\n",
       "       [0.90447568, 0.9146264 ]])"
      ]
     },
     "execution_count": 3,
     "metadata": {},
     "output_type": "execute_result"
    }
   ],
   "source": [
    "np.random.rand(5,2)             # Give five sets of 2"
   ]
  },
  {
   "cell_type": "code",
   "execution_count": 4,
   "id": "92dc942b",
   "metadata": {},
   "outputs": [],
   "source": [
    "n = 10000\n",
    "random_numbers = np.random.rand(n)"
   ]
  },
  {
   "cell_type": "code",
   "execution_count": 5,
   "id": "9ffd74b4",
   "metadata": {},
   "outputs": [
    {
     "data": {
      "text/plain": [
       "49.38"
      ]
     },
     "execution_count": 5,
     "metadata": {},
     "output_type": "execute_result"
    }
   ],
   "source": [
    "# The numbers less than .5 must be about 50%\n",
    "np.sum(random_numbers < .5) / n * 100"
   ]
  },
  {
   "cell_type": "code",
   "execution_count": 6,
   "id": "cada1ec7",
   "metadata": {},
   "outputs": [
    {
     "data": {
      "text/plain": [
       "24.62"
      ]
     },
     "execution_count": 6,
     "metadata": {},
     "output_type": "execute_result"
    }
   ],
   "source": [
    "# The numbers less than .25 must be about 25%\n",
    "np.sum(random_numbers < .25) / n * 100"
   ]
  },
  {
   "cell_type": "code",
   "execution_count": 7,
   "id": "75840687",
   "metadata": {},
   "outputs": [
    {
     "data": {
      "text/plain": [
       "25.82"
      ]
     },
     "execution_count": 7,
     "metadata": {},
     "output_type": "execute_result"
    }
   ],
   "source": [
    "# The numbers more than .75 must be about 25%\n",
    "np.sum(random_numbers > .75) / n * 100"
   ]
  },
  {
   "cell_type": "markdown",
   "id": "b61972e5",
   "metadata": {},
   "source": [
    "### 1.3 A simple graphical test"
   ]
  },
  {
   "cell_type": "code",
   "execution_count": 12,
   "id": "ec71c123",
   "metadata": {},
   "outputs": [
    {
     "ename": "NameError",
     "evalue": "name 'plt' is not defined",
     "output_type": "error",
     "traceback": [
      "\u001b[0;31m---------------------------------------------------------------------------\u001b[0m",
      "\u001b[0;31mNameError\u001b[0m                                 Traceback (most recent call last)",
      "Cell \u001b[0;32mIn[12], line 4\u001b[0m\n\u001b[1;32m      1\u001b[0m n \u001b[38;5;241m=\u001b[39m \u001b[38;5;241m10000\u001b[39m\n\u001b[1;32m      2\u001b[0m random_numbers \u001b[38;5;241m=\u001b[39m np\u001b[38;5;241m.\u001b[39mrandom\u001b[38;5;241m.\u001b[39mrand(n)\n\u001b[0;32m----> 4\u001b[0m fig, ax \u001b[38;5;241m=\u001b[39m \u001b[43mplt\u001b[49m\u001b[38;5;241m.\u001b[39msubplots(nrows\u001b[38;5;241m=\u001b[39m\u001b[38;5;241m1\u001b[39m, ncols\u001b[38;5;241m=\u001b[39m\u001b[38;5;241m2\u001b[39m)\n\u001b[1;32m      6\u001b[0m axis \u001b[38;5;241m=\u001b[39m ax[\u001b[38;5;241m0\u001b[39m]\n\u001b[1;32m      7\u001b[0m axis\u001b[38;5;241m.\u001b[39mhist(random_numbers, bins\u001b[38;5;241m=\u001b[39m\u001b[38;5;241m100\u001b[39m, alpha\u001b[38;5;241m=\u001b[39m\u001b[38;5;241m.25\u001b[39m)\n",
      "\u001b[0;31mNameError\u001b[0m: name 'plt' is not defined"
     ]
    }
   ],
   "source": [
    "n = 10000\n",
    "random_numbers = np.random.rand(n)\n",
    "\n",
    "fig, ax = plt.subplots(nrows=1, ncols=2)\n",
    "\n",
    "axis = ax[0]\n",
    "axis.hist(random_numbers, bins=100, alpha=.25)\n",
    "axis.set_xlabel(\"Value of random number\")\n",
    "axis.set_ylabel(\"Frequency\")\n",
    "\n",
    "axis = ax[1]\n",
    "axis.scatter(range(n), random_numbers, alpha=.25)\n",
    "axis.set_xlabel(\"Position in the random number list\")\n",
    "axis.set_ylabel(\"Value of random number\")"
   ]
  },
  {
   "cell_type": "markdown",
   "id": "a8f592d0",
   "metadata": {},
   "source": [
    "### 1.4 Uniformly beyond \\([0,1)\\)"
   ]
  },
  {
   "cell_type": "code",
   "execution_count": 11,
   "id": "dba8e6ec",
   "metadata": {},
   "outputs": [],
   "source": [
    "n = 10000\n",
    "random_numbers = np.random.uniform(low=50, high=100, size=n)"
   ]
  },
  {
   "cell_type": "markdown",
   "id": "8b13bbcd",
   "metadata": {},
   "source": [
    "### 1.5 ‘seeding’ a PRNG"
   ]
  },
  {
   "cell_type": "code",
   "execution_count": null,
   "id": "cd20681b",
   "metadata": {},
   "outputs": [],
   "source": [
    "\n",
    "# Your code here\n"
   ]
  },
  {
   "cell_type": "markdown",
   "id": "d626e77e",
   "metadata": {},
   "source": [
    "## 2 Simulating a Magic-8 Ball"
   ]
  },
  {
   "cell_type": "markdown",
   "id": "d283f2ad",
   "metadata": {},
   "source": [
    "## 3 Flipping Coins"
   ]
  },
  {
   "cell_type": "markdown",
   "id": "de9b072a",
   "metadata": {},
   "source": [
    "### 3.1 A fair coin"
   ]
  },
  {
   "cell_type": "code",
   "execution_count": null,
   "id": "0f695857",
   "metadata": {},
   "outputs": [],
   "source": [
    "\n",
    "# Your code here\n"
   ]
  },
  {
   "cell_type": "markdown",
   "id": "a662d361",
   "metadata": {},
   "source": [
    "### 3.2 A biased coin"
   ]
  },
  {
   "cell_type": "code",
   "execution_count": null,
   "id": "e0fee6ea",
   "metadata": {},
   "outputs": [],
   "source": [
    "\n",
    "# Your code here\n"
   ]
  },
  {
   "cell_type": "markdown",
   "id": "73b1b090",
   "metadata": {},
   "source": [
    "### 3.3 A flipping experiment"
   ]
  },
  {
   "cell_type": "code",
   "execution_count": null,
   "id": "b1243dd8",
   "metadata": {},
   "outputs": [],
   "source": [
    "\n",
    "# Your code here\n"
   ]
  },
  {
   "cell_type": "markdown",
   "id": "ea4cc9c3",
   "metadata": {},
   "source": [
    "## Exercise 1 :  12C, 13C"
   ]
  },
  {
   "cell_type": "code",
   "execution_count": null,
   "id": "e27313fb",
   "metadata": {},
   "outputs": [],
   "source": [
    "\n",
    "\n",
    "\n",
    "# Your solution here\n",
    "\n",
    "\n"
   ]
  }
 ],
 "metadata": {
  "kernelspec": {
   "display_name": "Python 3 (ipykernel)",
   "language": "python",
   "name": "python3"
  },
  "language_info": {
   "codemirror_mode": {
    "name": "ipython",
    "version": 3
   },
   "file_extension": ".py",
   "mimetype": "text/x-python",
   "name": "python",
   "nbconvert_exporter": "python",
   "pygments_lexer": "ipython3",
   "version": "3.10.8"
  },
  "toc": {
   "base_numbering": 1,
   "nav_menu": {},
   "number_sections": true,
   "sideBar": true,
   "skip_h1_title": false,
   "title_cell": "Table of Contents",
   "title_sidebar": "Contents",
   "toc_cell": false,
   "toc_position": {},
   "toc_section_display": true,
   "toc_window_display": false
  },
  "varInspector": {
   "cols": {
    "lenName": 16,
    "lenType": 16,
    "lenVar": 40
   },
   "kernels_config": {
    "python": {
     "delete_cmd_postfix": "",
     "delete_cmd_prefix": "del ",
     "library": "var_list.py",
     "varRefreshCmd": "print(var_dic_list())"
    },
    "r": {
     "delete_cmd_postfix": ") ",
     "delete_cmd_prefix": "rm(",
     "library": "var_list.r",
     "varRefreshCmd": "cat(var_dic_list()) "
    }
   },
   "types_to_exclude": [
    "module",
    "function",
    "builtin_function_or_method",
    "instance",
    "_Feature"
   ],
   "window_display": false
  },
  "vscode": {
   "interpreter": {
    "hash": "31f2aee4e71d21fbe5cf8b01ff0e069b9275f58929596ceb00d14d90e3e16cd6"
   }
  }
 },
 "nbformat": 4,
 "nbformat_minor": 5
}
